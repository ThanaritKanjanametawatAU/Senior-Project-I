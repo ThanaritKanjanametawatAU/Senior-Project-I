{
 "cells": [
  {
   "cell_type": "markdown",
   "id": "88279850-7cb0-4430-9ceb-c58d8f87823a",
   "metadata": {},
   "source": [
    "# 1. Download Original Dataset"
   ]
  },
  {
   "cell_type": "code",
   "execution_count": null,
   "id": "4063b65b-b48b-48dd-8b6a-c0322ce5fd59",
   "metadata": {},
   "outputs": [],
   "source": []
  },
  {
   "cell_type": "markdown",
   "id": "69045015-9588-48ae-8106-55d335511b6f",
   "metadata": {},
   "source": [
    "# 2. Preprocessed to have \"text\" and \"label\" column"
   ]
  },
  {
   "cell_type": "code",
   "execution_count": null,
   "id": "138392f6-afa0-45a1-9c98-4dc56376de4b",
   "metadata": {},
   "outputs": [],
   "source": []
  },
  {
   "cell_type": "markdown",
   "id": "7c035dce-846d-4f41-a661-448086a3ebac",
   "metadata": {},
   "source": [
    "# 3. Save to CSV"
   ]
  },
  {
   "cell_type": "code",
   "execution_count": null,
   "id": "8ffd6b10-566e-42e1-9900-5d250bb48029",
   "metadata": {},
   "outputs": [],
   "source": []
  }
 ],
 "metadata": {
  "kernelspec": {
   "display_name": "Python 3 (ipykernel)",
   "language": "python",
   "name": "python3"
  },
  "language_info": {
   "codemirror_mode": {
    "name": "ipython",
    "version": 3
   },
   "file_extension": ".py",
   "mimetype": "text/x-python",
   "name": "python",
   "nbconvert_exporter": "python",
   "pygments_lexer": "ipython3",
   "version": "3.10.12"
  }
 },
 "nbformat": 4,
 "nbformat_minor": 5
}
