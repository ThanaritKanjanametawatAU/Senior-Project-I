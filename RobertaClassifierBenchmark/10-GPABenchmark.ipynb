{
 "cells": [
  {
   "cell_type": "code",
   "execution_count": 1,
   "id": "e90f6f72-18b8-472b-a0aa-e5db8f005b6b",
   "metadata": {},
   "outputs": [
    {
     "data": {
      "text/plain": [
       "True"
      ]
     },
     "execution_count": 1,
     "metadata": {},
     "output_type": "execute_result"
    }
   ],
   "source": [
    "import pandas as pd\n",
    "from sklearn.metrics import confusion_matrix, accuracy_score, precision_score, recall_score, f1_score, roc_auc_score, roc_curve\n",
    "import numpy as np\n",
    "from transformers import pipeline\n",
    "import torch\n",
    "import time\n",
    "import matplotlib.pyplot as plt\n",
    "from collections import Counter\n",
    "\n",
    "def prepare_data(filepath):\n",
    "    # Load the dataset\n",
    "    df = pd.read_csv(filepath)\n",
    "\n",
    "    # Assuming your CSV has two columns: 'text' and 'label'\n",
    "    # Modify column names as per your dataset\n",
    "    texts = df['text'].tolist()\n",
    "    labels = df['label'].tolist()\n",
    "\n",
    "\n",
    "    return texts, labels\n",
    "\n",
    "torch.cuda.is_available()"
   ]
  },
  {
   "cell_type": "code",
   "execution_count": 2,
   "id": "1f3348c1-f381-455a-b9dd-893203913776",
   "metadata": {},
   "outputs": [],
   "source": [
    "def evaluate_metrics(y_true, y_pred):\n",
    "    label_counts = Counter(y_true)\n",
    "\n",
    "    # Printing the count of each label\n",
    "    print(f\"Number of '0' labels: {label_counts[0]}\")\n",
    "    print(f\"Number of '1' labels: {label_counts[1]}\")\n",
    "\n",
    "    print(\"Evaluating Metrics...\")\n",
    "    # Confusion matrix components\n",
    "    tn, fp, fn, tp = confusion_matrix(y_true, y_pred).ravel()\n",
    "\n",
    "    # AUROC\n",
    "    y_pred_proba = [1 - p if label == 0 else p for p, label in zip(y_pred, y_true)]  # Probabilities for AUROC\n",
    "    auroc = roc_auc_score(y_true, y_pred_proba)\n",
    "    # Calculate ROC Curve\n",
    "    fpr, tpr, thresholds = roc_curve(y_true, y_pred_proba)\n",
    "\n",
    "    # Plotting the ROC Curve\n",
    "    plt.figure()\n",
    "    plt.plot(fpr, tpr, color='darkorange', lw=2, label='ROC curve (area = %0.2f)' % auroc)\n",
    "    plt.plot([0, 1], [0, 1], color='navy', lw=2, linestyle='--')\n",
    "    plt.xlim([0.0, 1.0])\n",
    "    plt.ylim([0.0, 1.05])\n",
    "    plt.xlabel('False Positive Rate')\n",
    "    plt.ylabel('True Positive Rate')\n",
    "    plt.title('Receiver Operating Characteristic')\n",
    "    plt.legend(loc=\"lower right\")\n",
    "    plt.show()\n",
    "\n",
    "    # Basic metrics\n",
    "    accuracy = accuracy_score(y_true, y_pred)\n",
    "    precision = precision_score(y_true, y_pred)\n",
    "    recall = recall_score(y_true, y_pred)\n",
    "    f1 = f1_score(y_true, y_pred)\n",
    "\n",
    "    # Human Recall and LLM Recall (assuming human label is '0' and LLM is '1')\n",
    "    human_recall = tn / (tn + fp) if (tn + fp) != 0 else 0\n",
    "    llm_recall = tp / (tp + fn) if (tp + fn) != 0 else 0\n",
    "\n",
    "    # Average Recall\n",
    "    avg_recall = (human_recall + llm_recall) / 2\n",
    "\n",
    "    # Rates\n",
    "    fpr = fp / (fp + tn) if (fp + tn) != 0 else 0\n",
    "    tnr = tn / (tn + fp) if (tn + fp) != 0 else 0\n",
    "    fnr = fn / (fn + tp) if (fn + tp) != 0 else 0\n",
    "\n",
    "\n",
    "\n",
    "\n",
    "\n",
    "    return {\n",
    "        \"True Positive\": tp,\n",
    "        \"True Negative\": tn,\n",
    "        \"False Positive\": fp,\n",
    "        \"False Negative\": fn,\n",
    "        \"Accuracy\": accuracy,\n",
    "        \"Precision\": precision,\n",
    "        \"Recall\": recall,\n",
    "        \"Human Recall\": human_recall,\n",
    "        \"LLM Recall\": llm_recall,\n",
    "        \"AvgRecall\": avg_recall,\n",
    "        \"False Positive Rate\": fpr,\n",
    "        \"True Negative Rate\": tnr,\n",
    "        \"False Negative Rate\": fnr,\n",
    "        \"F1 Score\": f1,\n",
    "        \"AUROC\": auroc\n",
    "    }"
   ]
  },
  {
   "cell_type": "code",
   "execution_count": 3,
   "id": "b590d75a-2003-4d20-b7a7-a614c22ab261",
   "metadata": {},
   "outputs": [
    {
     "name": "stderr",
     "output_type": "stream",
     "text": [
      "Some weights of RobertaForSequenceClassification were not initialized from the model checkpoint at roberta-base and are newly initialized: ['classifier.dense.bias', 'classifier.out_proj.weight', 'classifier.dense.weight', 'classifier.out_proj.bias']\n",
      "You should probably TRAIN this model on a down-stream task to be able to use it for predictions and inference.\n"
     ]
    },
    {
     "name": "stdout",
     "output_type": "stream",
     "text": [
      "Data Loaded Successfully\n",
      "Result 1: {'label': 'LABEL_0', 'score': 0.5133448839187622}\n",
      "Result 2: {'label': 'LABEL_0', 'score': 0.5117179155349731}\n",
      "Result 3: {'label': 'LABEL_0', 'score': 0.5150474309921265}\n",
      "Result 4: {'label': 'LABEL_0', 'score': 0.5161723494529724}\n",
      "Result 5: {'label': 'LABEL_0', 'score': 0.512244462966919}\n",
      "Classification Done...\n",
      "Time Taken: 2458.7518854141235\n"
     ]
    }
   ],
   "source": [
    "# Load the pipeline\n",
    "classifier = pipeline(\"text-classification\", model=\"roberta-base\", device=0)\n",
    "\n",
    "# Prepare data\n",
    "filepath = \"/workspace/Senior-Project-I/dataset/10-GPABenchmark/preprocessed/GPABenchmark.csv\"  # Replace with your file path\n",
    "texts, y_true = prepare_data(filepath)\n",
    "print(\"Data Loaded Successfully\")\n",
    "\n",
    "\n",
    "# Classify text\n",
    "st = time.time()\n",
    "results = classifier(texts, truncation=True)\n",
    "et= time.time()\n",
    "\n",
    "for i in range(5):\n",
    "    print(f\"Result {i+1}: {results[i]}\")\n",
    "y_pred = [int(result['label'].split('_')[-1]) for result in results]\n",
    "print(f\"Classification Done...\\nTime Taken: {et-st}\")"
   ]
  },
  {
   "cell_type": "code",
   "execution_count": 4,
   "id": "04113174-9472-454e-84dd-88f7dd49a184",
   "metadata": {},
   "outputs": [
    {
     "name": "stdout",
     "output_type": "stream",
     "text": [
      "Number of '0' labels: 150000\n",
      "Number of '1' labels: 150000\n",
      "Evaluating Metrics...\n"
     ]
    },
    {
     "data": {
      "image/png": "[encoded data removed]",
      "text/plain": [
       "<Figure size 640x480 with 1 Axes>"
      ]
     },
     "metadata": {},
     "output_type": "display_data"
    },
    {
     "name": "stderr",
     "output_type": "stream",
     "text": [
      "/usr/local/lib/python3.10/dist-packages/sklearn/metrics/_classification.py:1471: UndefinedMetricWarning: Precision is ill-defined and being set to 0.0 due to no predicted samples. Use `zero_division` parameter to control this behavior.\n",
      "  _warn_prf(average, modifier, msg_start, len(result))\n"
     ]
    },
    {
     "name": "stdout",
     "output_type": "stream",
     "text": [
      "True Positive: 0.0000\n",
      "True Negative: 150000.0000\n",
      "False Positive: 0.0000\n",
      "False Negative: 150000.0000\n",
      "Accuracy: 0.5000\n",
      "Precision: 0.0000\n",
      "Recall: 0.0000\n",
      "Human Recall: 1.0000\n",
      "LLM Recall: 0.0000\n",
      "AvgRecall: 0.5000\n",
      "False Positive Rate: 0.0000\n",
      "True Negative Rate: 1.0000\n",
      "False Negative Rate: 1.0000\n",
      "F1 Score: 0.0000\n",
      "AUROC: 0.0000\n"
     ]
    }
   ],
   "source": [
    "metrics = evaluate_metrics(y_true, y_pred)\n",
    "for metric, value in metrics.items():\n",
    "    print(f\"{metric}: {value:.4f}\")"
   ]
  }
 ],
 "metadata": {
  "kernelspec": {
   "display_name": "Python 3 (ipykernel)",
   "language": "python",
   "name": "python3"
  },
  "language_info": {
   "codemirror_mode": {
    "name": "ipython",
    "version": 3
   },
   "file_extension": ".py",
   "mimetype": "text/x-python",
   "name": "python",
   "nbconvert_exporter": "python",
   "pygments_lexer": "ipython3",
   "version": "3.10.12"
  }
 },
 "nbformat": 4,
 "nbformat_minor": 5
}
